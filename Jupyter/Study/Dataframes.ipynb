{
 "cells": [
  {
   "cell_type": "code",
   "execution_count": 1,
   "id": "63aafb12-b116-4b63-a1df-da5c0b5f0f9f",
   "metadata": {},
   "outputs": [],
   "source": [
    "from pyspark.sql import SparkSession"
   ]
  },
  {
   "cell_type": "code",
   "execution_count": 3,
   "id": "691eb8ea-d019-4337-90a0-35be5e66148f",
   "metadata": {},
   "outputs": [
    {
     "name": "stderr",
     "output_type": "stream",
     "text": [
      "WARNING: Using incubator modules: jdk.incubator.vector\n",
      "Using Spark's default log4j profile: org/apache/spark/log4j2-defaults.properties\n",
      "Setting default log level to \"WARN\".\n",
      "To adjust logging level use sc.setLogLevel(newLevel). For SparkR, use setLogLevel(newLevel).\n",
      "25/08/02 15:48:43 WARN NativeCodeLoader: Unable to load native-hadoop library for your platform... using builtin-java classes where applicable\n",
      "25/08/02 15:48:43 WARN Utils: Service 'SparkUI' could not bind on port 4040. Attempting port 4041.\n"
     ]
    }
   ],
   "source": [
    "spark=SparkSession.builder.appName('Dataframe').getOrCreate()"
   ]
  },
  {
   "cell_type": "code",
   "execution_count": 4,
   "id": "98c76e33-1880-48cd-aceb-e0b2ceb6d914",
   "metadata": {},
   "outputs": [
    {
     "data": {
      "text/html": [
       "\n",
       "            <div>\n",
       "                <p><b>SparkSession - in-memory</b></p>\n",
       "                \n",
       "        <div>\n",
       "            <p><b>SparkContext</b></p>\n",
       "\n",
       "            <p><a href=\"http://archlinux:4041\">Spark UI</a></p>\n",
       "\n",
       "            <dl>\n",
       "              <dt>Version</dt>\n",
       "                <dd><code>v4.0.0</code></dd>\n",
       "              <dt>Master</dt>\n",
       "                <dd><code>local[*]</code></dd>\n",
       "              <dt>AppName</dt>\n",
       "                <dd><code>Dataframe</code></dd>\n",
       "            </dl>\n",
       "        </div>\n",
       "        \n",
       "            </div>\n",
       "        "
      ],
      "text/plain": [
       "<pyspark.sql.session.SparkSession at 0x7f5a617cba10>"
      ]
     },
     "execution_count": 4,
     "metadata": {},
     "output_type": "execute_result"
    }
   ],
   "source": [
    "spark\n"
   ]
  },
  {
   "cell_type": "code",
   "execution_count": 42,
   "id": "601e4c3c-a359-4991-8185-eef1b5750ecf",
   "metadata": {},
   "outputs": [
    {
     "name": "stdout",
     "output_type": "stream",
     "text": [
      "+-----+----+----------+------+\n",
      "| name| age|experience|Salary|\n",
      "+-----+----+----------+------+\n",
      "|sakai|  19|         1| 10000|\n",
      "|  sam|  36|        10| 69000|\n",
      "|  bob|  24|         3| 30000|\n",
      "|  pam|  38|        14| 74000|\n",
      "| john|NULL|      NULL| 40000|\n",
      "| NULL|  34|        10| 45689|\n",
      "| NULL|  50|        30|100000|\n",
      "+-----+----+----------+------+\n",
      "\n"
     ]
    }
   ],
   "source": [
    "##read dataset\n",
    "df_s=spark.read.csv('test1.csv',header=True,inferSchema=True)\n",
    "df_s.show()"
   ]
  },
  {
   "cell_type": "code",
   "execution_count": 43,
   "id": "6abf5ca5-1923-4c38-b5d1-c7d1497a9823",
   "metadata": {},
   "outputs": [
    {
     "name": "stdout",
     "output_type": "stream",
     "text": [
      "root\n",
      " |-- name: string (nullable = true)\n",
      " |-- age: integer (nullable = true)\n",
      " |-- experience: integer (nullable = true)\n",
      " |-- Salary: integer (nullable = true)\n",
      "\n"
     ]
    }
   ],
   "source": [
    "df_s.printSchema()"
   ]
  },
  {
   "cell_type": "code",
   "execution_count": 44,
   "id": "96ef7195-cabc-48a7-9b9c-bf65c8349f10",
   "metadata": {},
   "outputs": [
    {
     "data": {
      "text/plain": [
       "pyspark.sql.classic.dataframe.DataFrame"
      ]
     },
     "execution_count": 44,
     "metadata": {},
     "output_type": "execute_result"
    }
   ],
   "source": [
    "type(df_s)"
   ]
  },
  {
   "cell_type": "code",
   "execution_count": 45,
   "id": "7889b14a-2d24-4bbb-a68d-707f18cd879f",
   "metadata": {},
   "outputs": [
    {
     "data": {
      "text/plain": [
       "[Row(name='sakai', age=19, experience=1, Salary=10000),\n",
       " Row(name='sam', age=36, experience=10, Salary=69000),\n",
       " Row(name='bob', age=24, experience=3, Salary=30000)]"
      ]
     },
     "execution_count": 45,
     "metadata": {},
     "output_type": "execute_result"
    }
   ],
   "source": [
    "df_s.head(3)"
   ]
  },
  {
   "cell_type": "code",
   "execution_count": 46,
   "id": "e97c9cce-db11-4708-a804-d950e1b60f40",
   "metadata": {},
   "outputs": [
    {
     "name": "stdout",
     "output_type": "stream",
     "text": [
      "+-----+\n",
      "| name|\n",
      "+-----+\n",
      "|sakai|\n",
      "|  sam|\n",
      "|  bob|\n",
      "|  pam|\n",
      "| john|\n",
      "| NULL|\n",
      "| NULL|\n",
      "+-----+\n",
      "\n"
     ]
    }
   ],
   "source": [
    "df_s.select('name').show()"
   ]
  },
  {
   "cell_type": "code",
   "execution_count": 47,
   "id": "b093e8a5-24db-4f5d-b13e-4c3584f16823",
   "metadata": {},
   "outputs": [
    {
     "data": {
      "text/plain": [
       "Column<'name'>"
      ]
     },
     "execution_count": 47,
     "metadata": {},
     "output_type": "execute_result"
    }
   ],
   "source": [
    "df_s['name']"
   ]
  },
  {
   "cell_type": "code",
   "execution_count": 48,
   "id": "bc9833fb-ecb1-4611-8e9b-1746ff65b02f",
   "metadata": {},
   "outputs": [
    {
     "data": {
      "text/plain": [
       "[('name', 'string'), ('age', 'int'), ('experience', 'int'), ('Salary', 'int')]"
      ]
     },
     "execution_count": 48,
     "metadata": {},
     "output_type": "execute_result"
    }
   ],
   "source": [
    "df_s.dtypes"
   ]
  },
  {
   "cell_type": "code",
   "execution_count": 49,
   "id": "d7635205-8093-4cff-ba7c-6d4b33a8c370",
   "metadata": {},
   "outputs": [
    {
     "name": "stderr",
     "output_type": "stream",
     "text": [
      "25/08/02 16:12:22 WARN SparkStringUtils: Truncated the string representation of a plan since it was too large. This behavior can be adjusted by setting 'spark.sql.debug.maxToStringFields'.\n"
     ]
    },
    {
     "name": "stdout",
     "output_type": "stream",
     "text": [
      "+-------+----+-----------------+------------------+------------------+\n",
      "|summary|name|              age|        experience|            Salary|\n",
      "+-------+----+-----------------+------------------+------------------+\n",
      "|  count|   5|                6|                 6|                 7|\n",
      "|   mean|NULL|             33.5|11.333333333333334|52669.857142857145|\n",
      "| stddev|NULL|10.94988584415381|10.347302385968366|30292.154542216438|\n",
      "|    min| bob|               19|                 1|             10000|\n",
      "|    max| sam|               50|                30|            100000|\n",
      "+-------+----+-----------------+------------------+------------------+\n",
      "\n"
     ]
    }
   ],
   "source": [
    "df_s.describe().show()"
   ]
  },
  {
   "cell_type": "code",
   "execution_count": 50,
   "id": "8521fb52-e95a-4cee-8a3c-526cd454da45",
   "metadata": {},
   "outputs": [],
   "source": [
    "##add column to df\n",
    "df_s=df_s.withColumn('age after 2 years',df_s['age']+2)"
   ]
  },
  {
   "cell_type": "code",
   "execution_count": 51,
   "id": "c2c8048b-f894-46a5-8fb1-9bb4a1d150e4",
   "metadata": {},
   "outputs": [
    {
     "name": "stdout",
     "output_type": "stream",
     "text": [
      "+-----+----+----------+------+\n",
      "| name| age|experience|Salary|\n",
      "+-----+----+----------+------+\n",
      "|sakai|  19|         1| 10000|\n",
      "|  sam|  36|        10| 69000|\n",
      "|  bob|  24|         3| 30000|\n",
      "|  pam|  38|        14| 74000|\n",
      "| john|NULL|      NULL| 40000|\n",
      "| NULL|  34|        10| 45689|\n",
      "| NULL|  50|        30|100000|\n",
      "+-----+----+----------+------+\n",
      "\n"
     ]
    }
   ],
   "source": [
    "#drop column\n",
    "df_s.drop('age after 2 years').show()"
   ]
  },
  {
   "cell_type": "code",
   "execution_count": 52,
   "id": "08c02b68-20f1-4fbb-a1b7-3f78ef7c39b9",
   "metadata": {},
   "outputs": [
    {
     "name": "stdout",
     "output_type": "stream",
     "text": [
      "+-----+----+----------+------+-------+\n",
      "| name| age|experience|Salary|new age|\n",
      "+-----+----+----------+------+-------+\n",
      "|sakai|  19|         1| 10000|     21|\n",
      "|  sam|  36|        10| 69000|     38|\n",
      "|  bob|  24|         3| 30000|     26|\n",
      "|  pam|  38|        14| 74000|     40|\n",
      "| john|NULL|      NULL| 40000|   NULL|\n",
      "| NULL|  34|        10| 45689|     36|\n",
      "| NULL|  50|        30|100000|     52|\n",
      "+-----+----+----------+------+-------+\n",
      "\n"
     ]
    }
   ],
   "source": [
    "#Rename column\n",
    "df_s.withColumnRenamed('age after 2 years', 'new age').show()"
   ]
  },
  {
   "cell_type": "code",
   "execution_count": 53,
   "id": "489a4e05-84e3-4198-b009-7f8441c54344",
   "metadata": {},
   "outputs": [],
   "source": [
    "#HANDLING MISSING VALUES\n",
    "#MEAN MEDIAN MODE"
   ]
  },
  {
   "cell_type": "code",
   "execution_count": 54,
   "id": "fdf9f659-ef35-450e-a1ae-9f1f5cf60885",
   "metadata": {},
   "outputs": [
    {
     "name": "stdout",
     "output_type": "stream",
     "text": [
      "+-----+---+----------+------+-----------------+\n",
      "| name|age|experience|Salary|age after 2 years|\n",
      "+-----+---+----------+------+-----------------+\n",
      "|sakai| 19|         1| 10000|               21|\n",
      "|  sam| 36|        10| 69000|               38|\n",
      "|  bob| 24|         3| 30000|               26|\n",
      "|  pam| 38|        14| 74000|               40|\n",
      "+-----+---+----------+------+-----------------+\n",
      "\n"
     ]
    }
   ],
   "source": [
    "df_s.na.drop().show()"
   ]
  },
  {
   "cell_type": "code",
   "execution_count": 56,
   "id": "aa584726-ec0f-4c27-b0e6-90e3d7da0e1c",
   "metadata": {},
   "outputs": [
    {
     "name": "stdout",
     "output_type": "stream",
     "text": [
      "+-----+---+----------+------+-----------------+\n",
      "| name|age|experience|Salary|age after 2 years|\n",
      "+-----+---+----------+------+-----------------+\n",
      "|sakai| 19|         1| 10000|               21|\n",
      "|  sam| 36|        10| 69000|               38|\n",
      "|  bob| 24|         3| 30000|               26|\n",
      "|  pam| 38|        14| 74000|               40|\n",
      "+-----+---+----------+------+-----------------+\n",
      "\n"
     ]
    }
   ],
   "source": [
    "### any==how\n",
    "df_s.na.drop(how='any').show()"
   ]
  },
  {
   "cell_type": "code",
   "execution_count": 67,
   "id": "49486589-2bfe-4f11-bc84-a4447489eec5",
   "metadata": {},
   "outputs": [
    {
     "name": "stdout",
     "output_type": "stream",
     "text": [
      "+-----+---+----------+------+-----------------+\n",
      "| name|age|experience|Salary|age after 2 years|\n",
      "+-----+---+----------+------+-----------------+\n",
      "|sakai| 19|         1| 10000|               21|\n",
      "|  sam| 36|        10| 69000|               38|\n",
      "|  bob| 24|         3| 30000|               26|\n",
      "|  pam| 38|        14| 74000|               40|\n",
      "| NULL| 34|        10| 45689|               36|\n",
      "| NULL| 50|        30|100000|               52|\n",
      "+-----+---+----------+------+-----------------+\n",
      "\n"
     ]
    }
   ],
   "source": [
    "#threshold\n",
    "#at least has 4 that arent null\n",
    "df_s.na.drop(how='any',thresh=4).show()"
   ]
  },
  {
   "cell_type": "code",
   "execution_count": 68,
   "id": "e4ba692a-8a52-4712-951f-e7454b179740",
   "metadata": {},
   "outputs": [
    {
     "name": "stdout",
     "output_type": "stream",
     "text": [
      "+-----+---+----------+------+-----------------+\n",
      "| name|age|experience|Salary|age after 2 years|\n",
      "+-----+---+----------+------+-----------------+\n",
      "|sakai| 19|         1| 10000|               21|\n",
      "|  sam| 36|        10| 69000|               38|\n",
      "|  bob| 24|         3| 30000|               26|\n",
      "|  pam| 38|        14| 74000|               40|\n",
      "| NULL| 34|        10| 45689|               36|\n",
      "| NULL| 50|        30|100000|               52|\n",
      "+-----+---+----------+------+-----------------+\n",
      "\n"
     ]
    }
   ],
   "source": [
    "df_s.na.drop(how='any',subset=['age']).show()"
   ]
  },
  {
   "cell_type": "code",
   "execution_count": 73,
   "id": "a0f7c764-0ee8-483c-9127-535c8c98b6ff",
   "metadata": {},
   "outputs": [
    {
     "name": "stdout",
     "output_type": "stream",
     "text": [
      "+-------------+----+----------+------+-----------------+\n",
      "|         name| age|experience|Salary|age after 2 years|\n",
      "+-------------+----+----------+------+-----------------+\n",
      "|        sakai|  19|         1| 10000|               21|\n",
      "|          sam|  36|        10| 69000|               38|\n",
      "|          bob|  24|         3| 30000|               26|\n",
      "|          pam|  38|        14| 74000|               40|\n",
      "|         john|NULL|      NULL| 40000|             NULL|\n",
      "|Missing Value|  34|        10| 45689|               36|\n",
      "|Missing Value|  50|        30|100000|               52|\n",
      "+-------------+----+----------+------+-----------------+\n",
      "\n"
     ]
    }
   ],
   "source": [
    "df_s.na.fill('Missing Value','name').show()"
   ]
  },
  {
   "cell_type": "code",
   "execution_count": 74,
   "id": "087ef6a7-ae6b-49dd-87b9-790652c34f68",
   "metadata": {},
   "outputs": [],
   "source": [
    "from pyspark.ml.feature import Imputer\n",
    "imputer = Imputer(\n",
    "    inputCols=['age','Experience','Salary'],\n",
    "    outputCols=[\"{}_imputed\".format(c) for c in ['age','Experience','Salary']]\n",
    "    ).setStrategy(\"mean\")\n",
    "#mean can be medioan mode"
   ]
  },
  {
   "cell_type": "code",
   "execution_count": 75,
   "id": "bf71e351-5a63-4340-aac1-0684f3b33f55",
   "metadata": {},
   "outputs": [
    {
     "name": "stdout",
     "output_type": "stream",
     "text": [
      "+-----+----+----------+------+-----------------+-----------+------------------+--------------+\n",
      "| name| age|experience|Salary|age after 2 years|age_imputed|Experience_imputed|Salary_imputed|\n",
      "+-----+----+----------+------+-----------------+-----------+------------------+--------------+\n",
      "|sakai|  19|         1| 10000|               21|         19|                 1|         10000|\n",
      "|  sam|  36|        10| 69000|               38|         36|                10|         69000|\n",
      "|  bob|  24|         3| 30000|               26|         24|                 3|         30000|\n",
      "|  pam|  38|        14| 74000|               40|         38|                14|         74000|\n",
      "| john|NULL|      NULL| 40000|             NULL|         33|                11|         40000|\n",
      "| NULL|  34|        10| 45689|               36|         34|                10|         45689|\n",
      "| NULL|  50|        30|100000|               52|         50|                30|        100000|\n",
      "+-----+----+----------+------+-----------------+-----------+------------------+--------------+\n",
      "\n"
     ]
    }
   ],
   "source": [
    "imputer.fit(df_s).transform(df_s).show()"
   ]
  },
  {
   "cell_type": "code",
   "execution_count": 76,
   "id": "1075c824-f3dd-439b-889c-a1888b1456f0",
   "metadata": {},
   "outputs": [],
   "source": [
    "#FILTERS"
   ]
  },
  {
   "cell_type": "code",
   "execution_count": 80,
   "id": "a596cce3-094d-4ae6-acd3-0eb56d52e3b0",
   "metadata": {},
   "outputs": [
    {
     "name": "stdout",
     "output_type": "stream",
     "text": [
      "+-----+----+\n",
      "| name| age|\n",
      "+-----+----+\n",
      "|sakai|  19|\n",
      "|  bob|  24|\n",
      "| john|NULL|\n",
      "+-----+----+\n",
      "\n"
     ]
    }
   ],
   "source": [
    "df_s.filter(\"Salary <=40000\").select(['name','age']).show()\n",
    "#df_s.filter(df_s['Salary'}<-20000).show()\n",
    "#both are the same and work"
   ]
  },
  {
   "cell_type": "code",
   "execution_count": 85,
   "id": "2579da09-6323-4b42-962b-f724d64ac0f6",
   "metadata": {},
   "outputs": [
    {
     "name": "stdout",
     "output_type": "stream",
     "text": [
      "+----+---+----------+------+-----------------+\n",
      "|name|age|experience|Salary|age after 2 years|\n",
      "+----+---+----------+------+-----------------+\n",
      "| sam| 36|        10| 69000|               38|\n",
      "| bob| 24|         3| 30000|               26|\n",
      "| pam| 38|        14| 74000|               40|\n",
      "|NULL| 34|        10| 45689|               36|\n",
      "|NULL| 50|        30|100000|               52|\n",
      "+----+---+----------+------+-----------------+\n",
      "\n"
     ]
    }
   ],
   "source": [
    "#~ == not\n",
    "#& == and\n",
    "df_s.filter(~(df_s['Salary']<20000) & ~(df_s['age']<20)).show()"
   ]
  },
  {
   "cell_type": "code",
   "execution_count": null,
   "id": "887886fc-fcbb-4c4b-ad56-ffb1d14bc5d0",
   "metadata": {},
   "outputs": [],
   "source": []
  },
  {
   "cell_type": "code",
   "execution_count": null,
   "id": "ad29a119-6d95-42dc-bad6-b9f8241bf2b4",
   "metadata": {},
   "outputs": [],
   "source": []
  },
  {
   "cell_type": "code",
   "execution_count": null,
   "id": "ee57e0dc-3d8b-47b7-8295-6d0d0718c09e",
   "metadata": {},
   "outputs": [],
   "source": []
  },
  {
   "cell_type": "code",
   "execution_count": null,
   "id": "4d82a51a-caa4-4049-83e0-5c997e861412",
   "metadata": {},
   "outputs": [],
   "source": []
  },
  {
   "cell_type": "code",
   "execution_count": null,
   "id": "9c83c25e-68cb-436a-bdb6-ef6048498aea",
   "metadata": {},
   "outputs": [],
   "source": []
  },
  {
   "cell_type": "code",
   "execution_count": null,
   "id": "81512b1b-8b11-4c4c-adfa-602200335ee2",
   "metadata": {},
   "outputs": [],
   "source": []
  },
  {
   "cell_type": "code",
   "execution_count": null,
   "id": "8f87bafb-5445-41b0-b8b7-a357703618f8",
   "metadata": {},
   "outputs": [],
   "source": []
  },
  {
   "cell_type": "code",
   "execution_count": null,
   "id": "2de4959a-180f-4b83-be29-9b5f031a9663",
   "metadata": {},
   "outputs": [],
   "source": []
  },
  {
   "cell_type": "code",
   "execution_count": null,
   "id": "158067c4-1ea6-400e-ac90-5210238d7128",
   "metadata": {},
   "outputs": [],
   "source": []
  },
  {
   "cell_type": "code",
   "execution_count": null,
   "id": "ca8b21b6-ee91-4f45-a349-e2982bdb747e",
   "metadata": {},
   "outputs": [],
   "source": []
  },
  {
   "cell_type": "code",
   "execution_count": null,
   "id": "bb499d27-8189-465a-bd96-e04d9f758f82",
   "metadata": {},
   "outputs": [],
   "source": []
  },
  {
   "cell_type": "code",
   "execution_count": null,
   "id": "a8c5f453-7952-4101-b95f-3fdb757304ee",
   "metadata": {},
   "outputs": [],
   "source": []
  },
  {
   "cell_type": "code",
   "execution_count": null,
   "id": "fa88f567-8797-4a1a-8d4d-61096a489cfb",
   "metadata": {},
   "outputs": [],
   "source": []
  },
  {
   "cell_type": "code",
   "execution_count": null,
   "id": "b88a0ea7-f431-49a7-95f1-0a0d2f68aa40",
   "metadata": {},
   "outputs": [],
   "source": []
  }
 ],
 "metadata": {
  "kernelspec": {
   "display_name": "Python 3 (ipykernel)",
   "language": "python",
   "name": "python3"
  },
  "language_info": {
   "codemirror_mode": {
    "name": "ipython",
    "version": 3
   },
   "file_extension": ".py",
   "mimetype": "text/x-python",
   "name": "python",
   "nbconvert_exporter": "python",
   "pygments_lexer": "ipython3",
   "version": "3.13.3"
  }
 },
 "nbformat": 4,
 "nbformat_minor": 5
}
